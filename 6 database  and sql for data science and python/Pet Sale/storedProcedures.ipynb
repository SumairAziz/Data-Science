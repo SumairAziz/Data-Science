{
 "cells": [
  {
   "cell_type": "code",
   "execution_count": null,
   "id": "d6e6fc1b",
   "metadata": {},
   "outputs": [
    {
     "name": "stdout",
     "output_type": "stream",
     "text": [
      "The sql extension is already loaded. To reload it, use:\n",
      "  %reload_ext sql\n"
     ]
    }
   ],
   "source": [
    "import sqlite3\n",
    "import prettytable\n",
    "prettytable.default='default'\n",
    "%load_ext sql\n",
    "%sql sqlite:///final.db\n",
    "con=sqlite3.connect(\"final.db\")\n"
   ]
  },
  {
   "cell_type": "code",
   "execution_count": 13,
   "id": "a56d0677",
   "metadata": {},
   "outputs": [],
   "source": [
    "con.commit()\n"
   ]
  },
  {
   "cell_type": "code",
   "execution_count": 7,
   "id": "1b06d918",
   "metadata": {},
   "outputs": [
    {
     "name": "stdout",
     "output_type": "stream",
     "text": [
      " * sqlite:///final.db\n",
      "Done.\n"
     ]
    },
    {
     "data": {
      "text/plain": [
       "[]"
      ]
     },
     "execution_count": 7,
     "metadata": {},
     "output_type": "execute_result"
    }
   ],
   "source": [
    "\n",
    "sql=\"\"\"DROP TABLE IF EXISTS PETSALE;\"\"\"\n",
    "%sql $sql"
   ]
  },
  {
   "cell_type": "code",
   "execution_count": 30,
   "id": "9f9a6ef3",
   "metadata": {},
   "outputs": [
    {
     "name": "stdout",
     "output_type": "stream",
     "text": [
      " * sqlite:///final.db\n",
      "(sqlite3.OperationalError) table PETSALE already exists\n",
      "[SQL: CREATE TABLE PETSALE ( ID INTEGER NOT NULL, ANIMAL VARCHAR(20), SALEPRICE DECIMAL(6,2), SALEDATE DATE, QUANTITY INTEGER, PRIMARY KEY (ID) );]\n",
      "(Background on this error at: https://sqlalche.me/e/20/e3q8)\n"
     ]
    }
   ],
   "source": [
    "sql=\"\"\"CREATE TABLE PETSALE (\n",
    "\tID INTEGER NOT NULL,\n",
    "\tANIMAL VARCHAR(20),\n",
    "\tSALEPRICE DECIMAL(6,2),\n",
    "\tSALEDATE DATE,\n",
    "\tQUANTITY INTEGER,\n",
    "\tPRIMARY KEY (ID)\n",
    "\t);\"\"\"\n",
    "%sql $sql"
   ]
  },
  {
   "cell_type": "code",
   "execution_count": 31,
   "id": "b811e8ef",
   "metadata": {},
   "outputs": [
    {
     "name": "stdout",
     "output_type": "stream",
     "text": [
      " * sqlite:///final.db\n",
      "(sqlite3.IntegrityError) UNIQUE constraint failed: PETSALE.ID\n",
      "[SQL: INSERT INTO PETSALE VALUES (1,'Cat',450.09,'2018-05-29',9), (2,'Dog',666.66,'2018-06-01',3), (3,'Parrot',50.00,'2018-06-04',2), (4,'Hamster',60.60,'2018-06-11',6), (5,'Goldfish',48.48,'2018-06-14',24);]\n",
      "(Background on this error at: https://sqlalche.me/e/20/gkpj)\n"
     ]
    }
   ],
   "source": [
    "sql=\"\"\"INSERT INTO PETSALE VALUES\n",
    "(1,'Cat',450.09,'2018-05-29',9),\n",
    "(2,'Dog',666.66,'2018-06-01',3),\n",
    "(3,'Parrot',50.00,'2018-06-04',2),\n",
    "(4,'Hamster',60.60,'2018-06-11',6),\n",
    "(5,'Goldfish',48.48,'2018-06-14',24);\"\"\"\n",
    "%sql $sql\n"
   ]
  },
  {
   "cell_type": "code",
   "execution_count": 32,
   "id": "f459af28",
   "metadata": {},
   "outputs": [
    {
     "name": "stdout",
     "output_type": "stream",
     "text": [
      "(1, 'Cat', 450.09, '2018-05-29', 9)\n",
      "(2, 'Dog', 666.66, '2018-06-01', 3)\n",
      "(3, 'Parrot', 50, '2018-06-04', 2)\n",
      "(4, 'Hamster', 60.6, '2018-06-11', 6)\n",
      "(5, 'Goldfish', 48.48, '2018-06-14', 24)\n"
     ]
    }
   ],
   "source": [
    "cur = con.cursor()\n",
    "cur.execute(\"SELECT * FROM PETSALE;\")\n",
    "rows = cur.fetchall()\n",
    "for row in rows:\n",
    "    print(row)\n"
   ]
  },
  {
   "cell_type": "code",
   "execution_count": 44,
   "id": "60e0673e",
   "metadata": {},
   "outputs": [],
   "source": [
    "sql=\"\"\"DELIMITER @\n",
    "CREATE PROCEDURE UPDATE_SALEPRICE (IN Animal_ID INTEGER, IN Animal_Health VARCHAR(5))\n",
    "BEGIN\n",
    "    IF Animal_Health = 'BAD' THEN\n",
    "        UPDATE PETSALE\n",
    "        SET SALEPRICE = SALEPRICE - (SALEPRICE * 0.25)\n",
    "        WHERE ID = Animal_ID;\n",
    "    ELSEIF Animal_Health = 'WORSE' THEN\n",
    "        UPDATE PETSALE\n",
    "        SET SALEPRICE = SALEPRICE - (SALEPRICE * 0.5)\n",
    "        WHERE ID = Animal_ID;\n",
    "    ELSE\n",
    "        UPDATE PETSALE\n",
    "        SET SALEPRICE = SALEPRICE\n",
    "        WHERE ID = Animal_ID;\n",
    "    END IF;\n",
    "END @\n",
    "\n",
    "DELIMITER ;\"\"\""
   ]
  },
  {
   "cell_type": "code",
   "execution_count": 45,
   "id": "bc7754bf",
   "metadata": {},
   "outputs": [
    {
     "name": "stdout",
     "output_type": "stream",
     "text": [
      " * sqlite:///final.db\n",
      "(sqlite3.OperationalError) near \"CALL\": syntax error\n",
      "[SQL: CALL RETRIEVE_ALL;]\n",
      "(Background on this error at: https://sqlalche.me/e/20/e3q8)\n",
      " * sqlite:///final.db\n",
      "(sqlite3.OperationalError) near \"CALL\": syntax error\n",
      "[SQL: CALL UPDATE_SALEPRICE(1, 'BAD' );]\n",
      "(Background on this error at: https://sqlalche.me/e/20/e3q8)\n",
      " * sqlite:///final.db\n",
      "(sqlite3.OperationalError) near \"CALL\": syntax error\n",
      "[SQL: CALL RETRIEVE_ALL;]\n",
      "(Background on this error at: https://sqlalche.me/e/20/e3q8)\n"
     ]
    }
   ],
   "source": [
    "sql=\"\"\"CALL RETRIEVE_ALL;\"\"\"\n",
    "%sql $sql\n",
    "\n",
    "sql=\"\"\"CALL UPDATE_SALEPRICE(1, 'BAD');\"\"\"\n",
    "%sql $sql\n",
    "\n",
    "sql=\"\"\"CALL RETRIEVE_ALL;\"\"\"\n",
    "%sql $sql"
   ]
  },
  {
   "cell_type": "code",
   "execution_count": 35,
   "id": "a7b3d903",
   "metadata": {},
   "outputs": [
    {
     "name": "stdout",
     "output_type": "stream",
     "text": [
      "[(1, 'Cat', 450.09, '2018-05-29', 9), (2, 'Dog', 666.66, '2018-06-01', 3), (3, 'Parrot', 50, '2018-06-04', 2), (4, 'Hamster', 60.6, '2018-06-11', 6), (5, 'Goldfish', 48.48, '2018-06-14', 24)]\n"
     ]
    }
   ],
   "source": [
    "def retrieve_all():\n",
    "    return con.execute(\"select * from petsale\").fetchall()\n",
    "print(retrieve_all())"
   ]
  },
  {
   "cell_type": "code",
   "execution_count": 36,
   "id": "29e9eb07",
   "metadata": {},
   "outputs": [
    {
     "name": "stdout",
     "output_type": "stream",
     "text": [
      " * sqlite:///final.db\n",
      "(sqlite3.OperationalError) view retrieve already exists\n",
      "[SQL: create view retrieve as select * from petsale]\n",
      "(Background on this error at: https://sqlalche.me/e/20/e3q8)\n"
     ]
    }
   ],
   "source": [
    "sql=\"\"\"create view retrieve as \n",
    "    select * from petsale\"\"\"\n",
    "%sql $sql\n"
   ]
  },
  {
   "cell_type": "code",
   "execution_count": 39,
   "id": "91dd9e14",
   "metadata": {},
   "outputs": [
    {
     "name": "stdout",
     "output_type": "stream",
     "text": [
      " * sqlite:///final.db\n",
      "1 rows affected.\n",
      " * sqlite:///final.db\n",
      "1 rows affected.\n"
     ]
    },
    {
     "data": {
      "text/plain": [
       "[]"
      ]
     },
     "execution_count": 39,
     "metadata": {},
     "output_type": "execute_result"
    }
   ],
   "source": [
    "%sql INSERT INTO petsale VALUES (6,'Cat',450.09,'2018-05-29',9);\n",
    "%sql INSERT INTO petsale VALUES (7,'Cat',450.09,'2018-05-29',9);\n"
   ]
  },
  {
   "cell_type": "code",
   "execution_count": 40,
   "id": "6e87334e",
   "metadata": {},
   "outputs": [
    {
     "name": "stdout",
     "output_type": "stream",
     "text": [
      " * sqlite:///final.db\n",
      "Done.\n"
     ]
    },
    {
     "ename": "KeyError",
     "evalue": "'DEFAULT'",
     "output_type": "error",
     "traceback": [
      "\u001b[1;31m---------------------------------------------------------------------------\u001b[0m",
      "\u001b[1;31mKeyError\u001b[0m                                  Traceback (most recent call last)",
      "Cell \u001b[1;32mIn[40], line 2\u001b[0m\n\u001b[0;32m      1\u001b[0m \u001b[38;5;66;03m#%sql SELECT * FROM retrieve;\u001b[39;00m\n\u001b[1;32m----> 2\u001b[0m \u001b[43mget_ipython\u001b[49m\u001b[43m(\u001b[49m\u001b[43m)\u001b[49m\u001b[38;5;241;43m.\u001b[39;49m\u001b[43mrun_line_magic\u001b[49m\u001b[43m(\u001b[49m\u001b[38;5;124;43m'\u001b[39;49m\u001b[38;5;124;43msql\u001b[39;49m\u001b[38;5;124;43m'\u001b[39;49m\u001b[43m,\u001b[49m\u001b[43m \u001b[49m\u001b[38;5;124;43m'\u001b[39;49m\u001b[38;5;124;43mSELECT * FROM petsale;\u001b[39;49m\u001b[38;5;124;43m'\u001b[39;49m\u001b[43m)\u001b[49m\n",
      "File \u001b[1;32mc:\\Users\\sumair\\miniconda3\\envs\\webscraping_env\\lib\\site-packages\\IPython\\core\\interactiveshell.py:2417\u001b[0m, in \u001b[0;36mInteractiveShell.run_line_magic\u001b[1;34m(self, magic_name, line, _stack_depth)\u001b[0m\n\u001b[0;32m   2415\u001b[0m     kwargs[\u001b[38;5;124m'\u001b[39m\u001b[38;5;124mlocal_ns\u001b[39m\u001b[38;5;124m'\u001b[39m] \u001b[38;5;241m=\u001b[39m \u001b[38;5;28mself\u001b[39m\u001b[38;5;241m.\u001b[39mget_local_scope(stack_depth)\n\u001b[0;32m   2416\u001b[0m \u001b[38;5;28;01mwith\u001b[39;00m \u001b[38;5;28mself\u001b[39m\u001b[38;5;241m.\u001b[39mbuiltin_trap:\n\u001b[1;32m-> 2417\u001b[0m     result \u001b[38;5;241m=\u001b[39m fn(\u001b[38;5;241m*\u001b[39margs, \u001b[38;5;241m*\u001b[39m\u001b[38;5;241m*\u001b[39mkwargs)\n\u001b[0;32m   2419\u001b[0m \u001b[38;5;66;03m# The code below prevents the output from being displayed\u001b[39;00m\n\u001b[0;32m   2420\u001b[0m \u001b[38;5;66;03m# when using magics with decodator @output_can_be_silenced\u001b[39;00m\n\u001b[0;32m   2421\u001b[0m \u001b[38;5;66;03m# when the last Python token in the expression is a ';'.\u001b[39;00m\n\u001b[0;32m   2422\u001b[0m \u001b[38;5;28;01mif\u001b[39;00m \u001b[38;5;28mgetattr\u001b[39m(fn, magic\u001b[38;5;241m.\u001b[39mMAGIC_OUTPUT_CAN_BE_SILENCED, \u001b[38;5;28;01mFalse\u001b[39;00m):\n",
      "File \u001b[1;32mc:\\Users\\sumair\\miniconda3\\envs\\webscraping_env\\lib\\site-packages\\sql\\magic.py:219\u001b[0m, in \u001b[0;36mSqlMagic.execute\u001b[1;34m(self, line, cell, local_ns)\u001b[0m\n\u001b[0;32m    216\u001b[0m     \u001b[38;5;28;01mreturn\u001b[39;00m\n\u001b[0;32m    218\u001b[0m \u001b[38;5;28;01mtry\u001b[39;00m:\n\u001b[1;32m--> 219\u001b[0m     result \u001b[38;5;241m=\u001b[39m \u001b[43msql\u001b[49m\u001b[38;5;241;43m.\u001b[39;49m\u001b[43mrun\u001b[49m\u001b[38;5;241;43m.\u001b[39;49m\u001b[43mrun\u001b[49m\u001b[43m(\u001b[49m\u001b[43mconn\u001b[49m\u001b[43m,\u001b[49m\u001b[43m \u001b[49m\u001b[43mparsed\u001b[49m\u001b[43m[\u001b[49m\u001b[38;5;124;43m\"\u001b[39;49m\u001b[38;5;124;43msql\u001b[39;49m\u001b[38;5;124;43m\"\u001b[39;49m\u001b[43m]\u001b[49m\u001b[43m,\u001b[49m\u001b[43m \u001b[49m\u001b[38;5;28;43mself\u001b[39;49m\u001b[43m,\u001b[49m\u001b[43m \u001b[49m\u001b[43muser_ns\u001b[49m\u001b[43m)\u001b[49m\n\u001b[0;32m    221\u001b[0m     \u001b[38;5;28;01mif\u001b[39;00m (\n\u001b[0;32m    222\u001b[0m         result \u001b[38;5;129;01mis\u001b[39;00m \u001b[38;5;129;01mnot\u001b[39;00m \u001b[38;5;28;01mNone\u001b[39;00m\n\u001b[0;32m    223\u001b[0m         \u001b[38;5;129;01mand\u001b[39;00m \u001b[38;5;129;01mnot\u001b[39;00m \u001b[38;5;28misinstance\u001b[39m(result, \u001b[38;5;28mstr\u001b[39m)\n\u001b[1;32m   (...)\u001b[0m\n\u001b[0;32m    226\u001b[0m         \u001b[38;5;66;03m# Instead of returning values, set variables directly in the\u001b[39;00m\n\u001b[0;32m    227\u001b[0m         \u001b[38;5;66;03m# user's namespace. Variable names given by column names\u001b[39;00m\n\u001b[0;32m    229\u001b[0m         \u001b[38;5;28;01mif\u001b[39;00m \u001b[38;5;28mself\u001b[39m\u001b[38;5;241m.\u001b[39mautopandas:\n",
      "File \u001b[1;32mc:\\Users\\sumair\\miniconda3\\envs\\webscraping_env\\lib\\site-packages\\sql\\run.py:374\u001b[0m, in \u001b[0;36mrun\u001b[1;34m(conn, sql, config, user_namespace)\u001b[0m\n\u001b[0;32m    372\u001b[0m     \u001b[38;5;28;01mif\u001b[39;00m result \u001b[38;5;129;01mand\u001b[39;00m config\u001b[38;5;241m.\u001b[39mfeedback:\n\u001b[0;32m    373\u001b[0m         \u001b[38;5;28mprint\u001b[39m(interpret_rowcount(result\u001b[38;5;241m.\u001b[39mrowcount))\n\u001b[1;32m--> 374\u001b[0m resultset \u001b[38;5;241m=\u001b[39m \u001b[43mResultSet\u001b[49m\u001b[43m(\u001b[49m\u001b[43mresult\u001b[49m\u001b[43m,\u001b[49m\u001b[43m \u001b[49m\u001b[43mconfig\u001b[49m\u001b[43m)\u001b[49m\n\u001b[0;32m    375\u001b[0m \u001b[38;5;28;01mif\u001b[39;00m config\u001b[38;5;241m.\u001b[39mautopandas:\n\u001b[0;32m    376\u001b[0m     \u001b[38;5;28;01mreturn\u001b[39;00m resultset\u001b[38;5;241m.\u001b[39mDataFrame()\n",
      "File \u001b[1;32mc:\\Users\\sumair\\miniconda3\\envs\\webscraping_env\\lib\\site-packages\\sql\\run.py:116\u001b[0m, in \u001b[0;36mResultSet.__init__\u001b[1;34m(self, sqlaproxy, config)\u001b[0m\n\u001b[0;32m    114\u001b[0m         \u001b[38;5;28mlist\u001b[39m\u001b[38;5;241m.\u001b[39m\u001b[38;5;21m__init__\u001b[39m(\u001b[38;5;28mself\u001b[39m, sqlaproxy\u001b[38;5;241m.\u001b[39mfetchall())\n\u001b[0;32m    115\u001b[0m     \u001b[38;5;28mself\u001b[39m\u001b[38;5;241m.\u001b[39mfield_names \u001b[38;5;241m=\u001b[39m unduplicate_field_names(\u001b[38;5;28mself\u001b[39m\u001b[38;5;241m.\u001b[39mkeys)\n\u001b[1;32m--> 116\u001b[0m     \u001b[38;5;28mself\u001b[39m\u001b[38;5;241m.\u001b[39mpretty \u001b[38;5;241m=\u001b[39m PrettyTable(\u001b[38;5;28mself\u001b[39m\u001b[38;5;241m.\u001b[39mfield_names, style\u001b[38;5;241m=\u001b[39m\u001b[43mprettytable\u001b[49m\u001b[38;5;241;43m.\u001b[39;49m\u001b[38;5;18;43m__dict__\u001b[39;49m\u001b[43m[\u001b[49m\u001b[43mconfig\u001b[49m\u001b[38;5;241;43m.\u001b[39;49m\u001b[43mstyle\u001b[49m\u001b[38;5;241;43m.\u001b[39;49m\u001b[43mupper\u001b[49m\u001b[43m(\u001b[49m\u001b[43m)\u001b[49m\u001b[43m]\u001b[49m)\n\u001b[0;32m    117\u001b[0m \u001b[38;5;28;01melse\u001b[39;00m:\n\u001b[0;32m    118\u001b[0m     \u001b[38;5;28mlist\u001b[39m\u001b[38;5;241m.\u001b[39m\u001b[38;5;21m__init__\u001b[39m(\u001b[38;5;28mself\u001b[39m, [])\n",
      "\u001b[1;31mKeyError\u001b[0m: 'DEFAULT'"
     ]
    }
   ],
   "source": [
    "#%sql SELECT * FROM retrieve;\n",
    "%sql SELECT * FROM petsale;\n"
   ]
  }
 ],
 "metadata": {
  "kernelspec": {
   "display_name": "webscraping_env",
   "language": "python",
   "name": "python3"
  },
  "language_info": {
   "codemirror_mode": {
    "name": "ipython",
    "version": 3
   },
   "file_extension": ".py",
   "mimetype": "text/x-python",
   "name": "python",
   "nbconvert_exporter": "python",
   "pygments_lexer": "ipython3",
   "version": "3.10.18"
  }
 },
 "nbformat": 4,
 "nbformat_minor": 5
}
