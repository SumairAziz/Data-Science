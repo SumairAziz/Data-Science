{
 "cells": [
  {
   "cell_type": "code",
   "execution_count": 9,
   "id": "033d85f6",
   "metadata": {},
   "outputs": [],
   "source": [
    "import requests\n",
    "from bs4 import BeautifulSoup\n",
    "import re\n",
    "import pandas as pd\n",
    "\n",
    "def extract_emails_from_url(url):\n",
    "    try:\n",
    "        response=requests.get(url,timeout=10)\n",
    "        soup=BeautifulSoup(response.text,'html.parser')\n",
    "        text=soup.get_text()\n",
    "        emails=re.findall(r\"[a-zA-Z0-9_.+-]+@[a-zA-Z0-9-]+\\.[a-zA-Z0-9-.]+\", text)\n",
    "        return list(set(emails))\n",
    "    except Exception as e:\n",
    "        print(f\"error fetching {url}: {e}\")\n",
    "        return []\n",
    "    \n",
    "\n",
    "\n",
    "hotel_websites=[\n",
    "    \"https://www.hotelduvin.com/locations/birmingham/\",\n",
    "    \"https://www.claytonhotelbirmingham.com/\",\n",
    "    \"https://www.thegrandhotelbirmingham.co.uk/contact-us/\",\n",
    "]\n",
    "\n",
    "results=[]\n",
    "\n",
    "\n",
    "for site in hotel_websites:\n",
    "    emails=extract_emails_from_url(site)\n",
    "    results.append({\n",
    "        \"Website\": site,\n",
    "        \"Email\": \",\" .join(emails) if emails else \"None Found\"\n",
    "    })"
   ]
  },
  {
   "cell_type": "code",
   "execution_count": 10,
   "id": "3aa99841",
   "metadata": {},
   "outputs": [],
   "source": [
    "from selenium import webdriver\n",
    "from selenium.webdriver.chrome.options import Options\n",
    "import re\n",
    "import pandas as pd\n",
    "\n",
    "def extract_emails_with_selenium(url):\n",
    "    try:\n",
    "        options = Options()\n",
    "        options.add_argument(\"--headless\")\n",
    "        driver = webdriver.Chrome(options=options)\n",
    "\n",
    "        driver.get(url)\n",
    "        text = driver.page_source\n",
    "\n",
    "        emails = re.findall(r\"[a-zA-Z0-9_.+-]+@[a-zA-Z0-9-]+\\.[a-zA-Z0-9-.]+\", text)\n",
    "        driver.quit()\n",
    "        return list(set(emails))\n",
    "    except Exception as e:\n",
    "        print(f\"Error fetching {url} with Selenium: {e}\")\n",
    "        return []\n"
   ]
  },
  {
   "cell_type": "code",
   "execution_count": 11,
   "id": "0e57e55c",
   "metadata": {},
   "outputs": [
    {
     "name": "stdout",
     "output_type": "stream",
     "text": [
      "Error fetching https://www.thegrandhotelbirmingham.co.uk/contact-us/ with Selenium: Message: Unable to obtain driver for chrome; For documentation on this error, please visit: https://www.selenium.dev/documentation/webdriver/troubleshooting/errors/driver_location\n",
      "\n",
      "Error fetching https://www.malmaison.com/locations/birmingham/contact/ with Selenium: Message: Unable to obtain driver for chrome; For documentation on this error, please visit: https://www.selenium.dev/documentation/webdriver/troubleshooting/errors/driver_location\n",
      "\n"
     ]
    }
   ],
   "source": [
    "hotel_websites = [\n",
    "    \"https://www.thegrandhotelbirmingham.co.uk/contact-us/\",\n",
    "    \"https://www.malmaison.com/locations/birmingham/contact/\",\n",
    "]\n",
    "\n",
    "results = []\n",
    "\n",
    "for site in hotel_websites:\n",
    "    emails = extract_emails_with_selenium(site)\n",
    "    results.append({\n",
    "        \"Website\": site,\n",
    "        \"Emails\": \", \".join(emails) if emails else \"None Found\"\n",
    "    })\n",
    "\n",
    "df = pd.DataFrame(results)\n",
    "df.to_excel(\"hotel_emails.xlsx\", index=False)\n"
   ]
  }
 ],
 "metadata": {
  "kernelspec": {
   "display_name": "webscraping_env",
   "language": "python",
   "name": "python3"
  },
  "language_info": {
   "codemirror_mode": {
    "name": "ipython",
    "version": 3
   },
   "file_extension": ".py",
   "mimetype": "text/x-python",
   "name": "python",
   "nbconvert_exporter": "python",
   "pygments_lexer": "ipython3",
   "version": "3.10.18"
  }
 },
 "nbformat": 4,
 "nbformat_minor": 5
}
